{
 "cells": [
  {
   "cell_type": "code",
   "execution_count": 1,
   "metadata": {
    "collapsed": false
   },
   "outputs": [
    {
     "name": "stderr",
     "output_type": "stream",
     "text": [
      "WARNING: AstropyDeprecationWarning: \n",
      "The 'recommended_units' attribute is deprecated since 3.0 and may be removed\n",
      "in a future version. Its main use, of representing angles in degrees in frames,\n",
      "is now done automatically in frames. Further overrides are discouraged but can\n",
      "be done using a frame's ``frame_specific_representation_info``.\n",
      " [astropy.coordinates.representation]\n",
      "WARNING: AstropyDeprecationWarning: The truth value of a Quantity is ambiguous. In the future this will raise a ValueError. [astropy.units.quantity]\n"
     ]
    }
   ],
   "source": [
    "from nustar_pysolar import planning, io\n",
    "import astropy.units as u"
   ]
  },
  {
   "cell_type": "markdown",
   "metadata": {},
   "source": [
    "# Download the list of occultation periods from the MOC at Berkeley.\n",
    "\n",
    "## Note that the occultation periods typically only are stored at Berkeley for the *future* and not for the past. So this is only really useful for observation planning."
   ]
  },
  {
   "cell_type": "code",
   "execution_count": 2,
   "metadata": {
    "collapsed": false
   },
   "outputs": [
    {
     "name": "stdout",
     "output_type": "stream",
     "text": [
      "./data/NUSTAR.2019_008.SHADOW_ANALYSIS.txt\n"
     ]
    }
   ],
   "source": [
    "fname = io.download_occultation_times(outdir='./data/')\n",
    "print(fname)"
   ]
  },
  {
   "cell_type": "markdown",
   "metadata": {},
   "source": [
    "# Download the NuSTAR TLE archive.\n",
    "\n",
    "This contains every two-line element (TLE) that we've received for the whole mission. We'll expand on how to use this later.\n",
    "\n",
    "The `times`, `line1`, and `line2` elements are now the TLE elements for each epoch."
   ]
  },
  {
   "cell_type": "code",
   "execution_count": 3,
   "metadata": {
    "collapsed": false
   },
   "outputs": [
    {
     "name": "stdout",
     "output_type": "stream",
     "text": [
      "./data/NuSTAR.tle\n"
     ]
    }
   ],
   "source": [
    "tlefile = io.download_tle(outdir='./data')\n",
    "print(tlefile)\n",
    "times, line1, line2 = io.read_tle_file(tlefile)"
   ]
  },
  {
   "cell_type": "markdown",
   "metadata": {},
   "source": [
    "# Here is where we define the observing window that we want to use.\n",
    "\n",
    "Note that tstart and tend must be in the future otherwise you won't find any occultation times and sunlight_periods will return an error."
   ]
  },
  {
   "cell_type": "code",
   "execution_count": 6,
   "metadata": {
    "collapsed": false
   },
   "outputs": [],
   "source": [
    "tstart = '2019-01-12T12:00:00'\n",
    "tend = '2019-01-12T23:00:00'\n",
    "orbits = planning.sunlight_periods(fname, tstart, tend)"
   ]
  },
  {
   "cell_type": "markdown",
   "metadata": {},
   "source": [
    "# We want to know how to orient NuSTAR for the Sun.\n",
    "\n",
    "We can more or less pick any angle that we want. But this angle has to be specified a little in advance so that the NuSTAR SOC can plan the \"slew in\" maneuvers. Below puts DET0 in the top left corner (north-east with respect to RA/Dec coordinates).\n",
    "\n",
    "### This is what you tell the SOC you want the \"Sky PA angle\" to be."
   ]
  },
  {
   "cell_type": "code",
   "execution_count": 7,
   "metadata": {
    "collapsed": false
   },
   "outputs": [
    {
     "name": "stdout",
     "output_type": "stream",
     "text": [
      "NuSTAR Roll angle for Det0 in NE quadrant: 356.66450088180875 deg\n"
     ]
    },
    {
     "name": "stderr",
     "output_type": "stream",
     "text": [
      "/Users/bwgref/anaconda/lib/python3.5/site-packages/nustar_pysolar-0.1.dev164-py3.5.egg/nustar_pysolar/planning.py:189: SunpyDeprecationWarning: Use sunpy.coordinates.get_sun_P() for higher accuracy\n",
      "  sun_np=sun.solar_north(t=time).deg * u.deg\n"
     ]
    }
   ],
   "source": [
    "pa = planning.get_nustar_roll(tstart, 0)\n",
    "print(\"NuSTAR Roll angle for Det0 in NE quadrant: {}\".format(pa))"
   ]
  },
  {
   "cell_type": "markdown",
   "metadata": {},
   "source": [
    "# Set up the offset you want to use here:\n",
    "\n",
    "The first element is the direction +WEST of the center of the Sun, the second is the offset +NORTH of the center of the Sun.\n",
    "\n",
    "If you want multiple pointing locations you can either specify an array of offsets or do this \"by hand\" below."
   ]
  },
  {
   "cell_type": "code",
   "execution_count": 8,
   "metadata": {
    "collapsed": false
   },
   "outputs": [],
   "source": [
    "offset = [-190., -47.]*u.arcsec"
   ]
  },
  {
   "cell_type": "markdown",
   "metadata": {},
   "source": [
    "# Loop over each orbit and correct the pointing for the same heliocentric pointing position.\n",
    "\n",
    "Note that you may want to update the pointing for solar rotation. That's up to the user to decide and is not done here."
   ]
  },
  {
   "cell_type": "code",
   "execution_count": 9,
   "metadata": {
    "collapsed": false
   },
   "outputs": [
    {
     "name": "stderr",
     "output_type": "stream",
     "text": [
      "/Users/bwgref/anaconda/lib/python3.5/site-packages/nustar_pysolar-0.1.dev164-py3.5.egg/nustar_pysolar/planning.py:133: SunpyDeprecationWarning: Use sunpy.coordinates.get_sun_P() for higher accuracy\n",
      "  sun_np = sunpy.sun.solar_north(t=time).cgs\n"
     ]
    },
    {
     "name": "stdout",
     "output_type": "stream",
     "text": [
      "Orbit: 0\n",
      "Orbit start: 2019-01-12T11:43:30 Orbit end: 2019-01-12T12:45:40\n",
      "Aim time: 2019-01-12T12:14:35 RA (deg): 293.5430246884607 deg Dec (deg): -21.693292074963686 deg\n",
      "\n",
      "Orbit: 1\n",
      "Orbit start: 2019-01-12T13:20:10 Orbit end: 2019-01-12T14:22:10\n",
      "Aim time: 2019-01-12T13:51:10 RA (deg): 293.61565606128727 deg Dec (deg): -21.682412919624156 deg\n",
      "\n",
      "Orbit: 2\n",
      "Orbit start: 2019-01-12T14:56:50 Orbit end: 2019-01-12T15:58:50\n",
      "Aim time: 2019-01-12T15:27:50 RA (deg): 293.688322567184 deg Dec (deg): -21.671491251373528 deg\n",
      "\n",
      "Orbit: 3\n",
      "Orbit start: 2019-01-12T16:33:30 Orbit end: 2019-01-12T17:35:30\n",
      "Aim time: 2019-01-12T17:04:30 RA (deg): 293.76097726656735 deg Dec (deg): -21.66053806738169 deg\n",
      "\n",
      "Orbit: 4\n",
      "Orbit start: 2019-01-12T18:10:10 Orbit end: 2019-01-12T19:12:10\n",
      "Aim time: 2019-01-12T18:41:10 RA (deg): 293.83362012934873 deg Dec (deg): -21.64955339207573 deg\n",
      "\n",
      "Orbit: 5\n",
      "Orbit start: 2019-01-12T19:46:50 Orbit end: 2019-01-12T20:48:50\n",
      "Aim time: 2019-01-12T20:17:50 RA (deg): 293.90625112708585 deg Dec (deg): -21.638537249715185 deg\n",
      "\n",
      "Orbit: 6\n",
      "Orbit start: 2019-01-12T21:23:30 Orbit end: 2019-01-12T22:25:30\n",
      "Aim time: 2019-01-12T21:54:30 RA (deg): 293.9788702305901 deg Dec (deg): -21.62748966478358 deg\n",
      "\n"
     ]
    }
   ],
   "source": [
    "for ind, orbit in enumerate(orbits):\n",
    "    midTime = (0.5*(orbit[1] - orbit[0]) + orbit[0])\n",
    "    sky_pos = planning.get_skyfield_position(midTime, offset, load_path='./data', parallax_correction=True)\n",
    "    print(\"Orbit: {}\".format(ind))\n",
    "    print(\"Orbit start: {} Orbit end: {}\".format(orbit[0].isoformat(), orbit[1].isoformat()))\n",
    "    print('Aim time: {} RA (deg): {} Dec (deg): {}'.format(midTime.isoformat(), sky_pos[0], sky_pos[1]))\n",
    "    print(\"\")"
   ]
  }
 ],
 "metadata": {
  "anaconda-cloud": {},
  "kernelspec": {
   "display_name": "Python [default]",
   "language": "python",
   "name": "python3"
  },
  "language_info": {
   "codemirror_mode": {
    "name": "ipython",
    "version": 3
   },
   "file_extension": ".py",
   "mimetype": "text/x-python",
   "name": "python",
   "nbconvert_exporter": "python",
   "pygments_lexer": "ipython3",
   "version": "3.5.5"
  }
 },
 "nbformat": 4,
 "nbformat_minor": 2
}
