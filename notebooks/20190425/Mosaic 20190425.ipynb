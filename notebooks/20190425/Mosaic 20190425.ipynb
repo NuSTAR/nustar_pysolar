{
 "cells": [
  {
   "cell_type": "code",
   "execution_count": 1,
   "metadata": {},
   "outputs": [],
   "source": [
    "from nustar_pysolar import planning, io\n",
    "import astropy.units as u\n",
    "import warnings\n",
    "warnings.filterwarnings('ignore')"
   ]
  },
  {
   "cell_type": "markdown",
   "metadata": {},
   "source": [
    "# Download the list of occultation periods from the MOC at Berkeley.\n",
    "\n",
    "## Note that the occultation periods typically only are stored at Berkeley for the *future* and not for the past. So this is only really useful for observation planning."
   ]
  },
  {
   "cell_type": "code",
   "execution_count": 2,
   "metadata": {},
   "outputs": [
    {
     "name": "stdout",
     "output_type": "stream",
     "text": [
      "../data/NUSTAR.2019_113.SHADOW_ANALYSIS.txt\n"
     ]
    }
   ],
   "source": [
    "fname = io.download_occultation_times(outdir='../data/')\n",
    "print(fname)"
   ]
  },
  {
   "cell_type": "markdown",
   "metadata": {},
   "source": [
    "# Download the NuSTAR TLE archive.\n",
    "\n",
    "This contains every two-line element (TLE) that we've received for the whole mission. We'll expand on how to use this later.\n",
    "\n",
    "The `times`, `line1`, and `line2` elements are now the TLE elements for each epoch."
   ]
  },
  {
   "cell_type": "code",
   "execution_count": 3,
   "metadata": {},
   "outputs": [
    {
     "name": "stdout",
     "output_type": "stream",
     "text": [
      "../data/NuSTAR.tle\n"
     ]
    }
   ],
   "source": [
    "tlefile = io.download_tle(outdir='../data')\n",
    "print(tlefile)\n",
    "times, line1, line2 = io.read_tle_file(tlefile)"
   ]
  },
  {
   "cell_type": "markdown",
   "metadata": {},
   "source": [
    "# Here is where we define the observing window that we want to use.\n",
    "\n",
    "Note that tstart and tend must be in the future otherwise you won't find any occultation times and sunlight_periods will return an error."
   ]
  },
  {
   "cell_type": "code",
   "execution_count": 4,
   "metadata": {},
   "outputs": [],
   "source": [
    "tstart = '2019-04-25T22:00:00'\n",
    "tend = '2019-04-26T23:00:00'\n",
    "orbits = planning.sunlight_periods(fname, tstart, tend)"
   ]
  },
  {
   "cell_type": "markdown",
   "metadata": {},
   "source": [
    "# We want to know how to orient NuSTAR for the Sun.\n",
    "\n",
    "We can more or less pick any angle that we want. But this angle has to be specified a little in advance so that the NuSTAR SOC can plan the \"slew in\" maneuvers. Below puts DET0 in the top left corner (north-east with respect to RA/Dec coordinates).\n",
    "\n",
    "### This is what you tell the SOC you want the \"Sky PA angle\" to be."
   ]
  },
  {
   "cell_type": "code",
   "execution_count": 5,
   "metadata": {},
   "outputs": [
    {
     "name": "stdout",
     "output_type": "stream",
     "text": [
      "2019-04-25T22:00:00\n",
      "NuSTAR Roll angle for Det0 in NE quadrant: 335.02417910451334 deg\n"
     ]
    }
   ],
   "source": [
    "pa = planning.get_nustar_roll(tstart, 0)\n",
    "print(tstart)\n",
    "print(\"NuSTAR Roll angle for Det0 in NE quadrant: {}\".format(pa))"
   ]
  },
  {
   "cell_type": "markdown",
   "metadata": {},
   "source": [
    "# This is where you actually make the Mosaic for Orbit 1"
   ]
  },
  {
   "cell_type": "code",
   "execution_count": 6,
   "metadata": {
    "scrolled": false
   },
   "outputs": [
    {
     "name": "stdout",
     "output_type": "stream",
     "text": [
      "[datetime.datetime(2019, 4, 25, 22, 9, 50), datetime.datetime(2019, 4, 25, 23, 11, 40)]\n",
      "Orbit start: 2019-04-25T22:09:50 Orbit end: 2019-04-25T23:11:40\n",
      "('Dwell per position:', 148.4)\n",
      "\n",
      "NuSTAR Roll Angle to get roll relative to Sun of 0.00 is 335.03 deg\n",
      "Step of FOV PA direction is 425.03 deg\n",
      "\n"
     ]
    },
    {
     "name": "stderr",
     "output_type": "stream",
     "text": [
      "[#################################] 100% deltat.data\n",
      "[#################################] 100% deltat.preds\n",
      "[#################################] 100% Leap_Second.dat\n",
      "[#################################] 100% de436.bsp\n"
     ]
    }
   ],
   "source": [
    "# Just use the first orbit...or choose one. This may download a ton of deltat.preds, which is a known \n",
    "# bug to be fixed.\n",
    "orbit = orbits[0].copy()\n",
    "print(orbit)\n",
    "#...adjust the index above to get the correct orbit. Then uncomment below.\n",
    "\n",
    "planning.make_mosaic(orbit, make_regions=True, outfile='orbit1_mosaic.txt', write_output=True)\n",
    "\n"
   ]
  },
  {
   "cell_type": "markdown",
   "metadata": {
    "collapsed": true
   },
   "source": [
    "# This is where you actually make the Mosaic for Orbit 2"
   ]
  },
  {
   "cell_type": "code",
   "execution_count": 8,
   "metadata": {},
   "outputs": [
    {
     "name": "stdout",
     "output_type": "stream",
     "text": [
      "[datetime.datetime(2019, 4, 25, 23, 46, 30), datetime.datetime(2019, 4, 26, 0, 48, 20)]\n",
      "Orbit start: 2019-04-25T23:46:30 Orbit end: 2019-04-26T00:48:20\n",
      "('Dwell per position:', 148.4)\n",
      "\n",
      "NuSTAR Roll Angle to get roll relative to Sun of 0.00 is 335.03 deg\n",
      "Step of FOV PA direction is 425.03 deg\n",
      "\n"
     ]
    }
   ],
   "source": [
    "# Just use the first orbit...or choose one. This may download a ton of deltat.preds, which is a known \n",
    "# bug to be fixed.\n",
    "orbit = orbits[1].copy()\n",
    "print(orbit)\n",
    "#...adjust the index above to get the correct orbit. Then uncomment below.\n",
    "\n",
    "planning.make_mosaic(orbit, make_regions=True, outfile='orbit2_mosaic.txt', write_output=True)\n",
    "\n"
   ]
  },
  {
   "cell_type": "markdown",
   "metadata": {},
   "source": [
    "# This is where you actually make the Mosaic for Orbit 3"
   ]
  },
  {
   "cell_type": "code",
   "execution_count": 10,
   "metadata": {},
   "outputs": [
    {
     "name": "stdout",
     "output_type": "stream",
     "text": [
      "[datetime.datetime(2019, 4, 26, 1, 23, 10), datetime.datetime(2019, 4, 26, 2, 25)]\n",
      "Orbit start: 2019-04-26T01:23:10 Orbit end: 2019-04-26T02:25:00\n",
      "('Dwell per position:', 148.4)\n",
      "\n",
      "NuSTAR Roll Angle to get roll relative to Sun of 0.00 is 335.04 deg\n",
      "Step of FOV PA direction is 425.04 deg\n",
      "\n"
     ]
    }
   ],
   "source": [
    "# Just use the first orbit...or choose one. This may download a ton of deltat.preds, which is a known \n",
    "# bug to be fixed.\n",
    "orbit = orbits[2].copy()\n",
    "print(orbit)\n",
    "#...adjust the index above to get the correct orbit. Then uncomment below.\n",
    "\n",
    "planning.make_mosaic(orbit, make_regions=True, outfile='orbit3_mosaic.txt', write_output=True)\n",
    "\n",
    "\n"
   ]
  },
  {
   "cell_type": "markdown",
   "metadata": {},
   "source": [
    "# This is where you actually make the Mosaic for Orbit 4\n",
    "\n"
   ]
  },
  {
   "cell_type": "code",
   "execution_count": 12,
   "metadata": {},
   "outputs": [
    {
     "name": "stdout",
     "output_type": "stream",
     "text": [
      "[datetime.datetime(2019, 4, 26, 2, 59, 50), datetime.datetime(2019, 4, 26, 4, 1, 40)]\n",
      "Orbit start: 2019-04-26T02:59:50 Orbit end: 2019-04-26T04:01:40\n",
      "('Dwell per position:', 148.4)\n",
      "\n",
      "NuSTAR Roll Angle to get roll relative to Sun of 0.00 is 335.05 deg\n",
      "Step of FOV PA direction is 425.05 deg\n",
      "\n"
     ]
    }
   ],
   "source": [
    "# Just use the first orbit...or choose one. This may download a ton of deltat.preds, which is a known \n",
    "# bug to be fixed.\n",
    "orbit = orbits[3].copy()\n",
    "print(orbit)\n",
    "#...adjust the index above to get the correct orbit. Then uncomment below.\n",
    "\n",
    "planning.make_mosaic(orbit, make_regions=True, outfile='orbit4_mosaic.txt', write_output=True)\n",
    "\n"
   ]
  }
 ],
 "metadata": {
  "anaconda-cloud": {},
  "kernelspec": {
   "display_name": "Python 3",
   "language": "python",
   "name": "python3"
  },
  "language_info": {
   "codemirror_mode": {
    "name": "ipython",
    "version": 3
   },
   "file_extension": ".py",
   "mimetype": "text/x-python",
   "name": "python",
   "nbconvert_exporter": "python",
   "pygments_lexer": "ipython3",
   "version": "3.6.8"
  }
 },
 "nbformat": 4,
 "nbformat_minor": 2
}
