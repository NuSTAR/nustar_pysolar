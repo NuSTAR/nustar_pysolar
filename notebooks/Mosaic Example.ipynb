{
 "cells": [
  {
   "cell_type": "code",
   "execution_count": 1,
   "metadata": {
    "collapsed": false
   },
   "outputs": [],
   "source": [
    "from nustar_pysolar import planning, io\n",
    "import astropy.units as u\n",
    "import warnings\n",
    "warnings.filterwarnings('ignore')"
   ]
  },
  {
   "cell_type": "markdown",
   "metadata": {},
   "source": [
    "# Download the list of occultation periods from the MOC at Berkeley.\n",
    "\n",
    "## Note that the occultation periods typically only are stored at Berkeley for the *future* and not for the past. So this is only really useful for observation planning."
   ]
  },
  {
   "cell_type": "code",
   "execution_count": 2,
   "metadata": {
    "collapsed": false
   },
   "outputs": [
    {
     "name": "stdout",
     "output_type": "stream",
     "text": [
      "../data/NUSTAR.2018_267.SHADOW_ANALYSIS.txt\n"
     ]
    }
   ],
   "source": [
    "fname = io.download_occultation_times(outdir='../data/')\n",
    "print(fname)"
   ]
  },
  {
   "cell_type": "markdown",
   "metadata": {},
   "source": [
    "# Download the NuSTAR TLE archive.\n",
    "\n",
    "This contains every two-line element (TLE) that we've received for the whole mission. We'll expand on how to use this later.\n",
    "\n",
    "The `times`, `line1`, and `line2` elements are now the TLE elements for each epoch."
   ]
  },
  {
   "cell_type": "code",
   "execution_count": 3,
   "metadata": {
    "collapsed": false
   },
   "outputs": [
    {
     "name": "stdout",
     "output_type": "stream",
     "text": [
      "../data/NuSTAR.tle\n"
     ]
    }
   ],
   "source": [
    "tlefile = io.download_tle(outdir='../data')\n",
    "print(tlefile)\n",
    "times, line1, line2 = io.read_tle_file(tlefile)"
   ]
  },
  {
   "cell_type": "markdown",
   "metadata": {},
   "source": [
    "# Here is where we define the observing window that we want to use.\n",
    "\n",
    "Note that tstart and tend must be in the future otherwise you won't find any occultation times and sunlight_periods will return an error."
   ]
  },
  {
   "cell_type": "code",
   "execution_count": 4,
   "metadata": {
    "collapsed": false
   },
   "outputs": [
    {
     "name": "stdout",
     "output_type": "stream",
     "text": [
      "Error in function: sunlight_periods\n",
      "No dates found in range. Pick a different occultation file.\n"
     ]
    }
   ],
   "source": [
    "tstart = '2018-05-29T15:37:00'\n",
    "tend = '2018-05-29T23:10:00'\n",
    "orbits = planning.sunlight_periods(fname, tstart, tend)"
   ]
  },
  {
   "cell_type": "markdown",
   "metadata": {},
   "source": [
    "# We want to know how to orient NuSTAR for the Sun.\n",
    "\n",
    "We can more or less pick any angle that we want. But this angle has to be specified a little in advance so that the NuSTAR SOC can plan the \"slew in\" maneuvers. Below puts DET0 in the top left corner (north-east with respect to RA/Dec coordinates).\n",
    "\n",
    "### This is what you tell the SOC you want the \"Sky PA angle\" to be."
   ]
  },
  {
   "cell_type": "code",
   "execution_count": null,
   "metadata": {
    "collapsed": false
   },
   "outputs": [],
   "source": [
    "pa = planning.get_nustar_roll(tstart, 0)\n",
    "print(\"NuSTAR Roll angle for Det0 in NE quadrant: {}\".format(pa))"
   ]
  },
  {
   "cell_type": "markdown",
   "metadata": {},
   "source": [
    "# Set up the offset you want to use here:\n",
    "\n",
    "The first element is the direction +WEST of the center of the Sun, the second is the offset +NORTH of the center of the Sun.\n",
    "\n",
    "If you want multiple pointing locations you can either specify an array of offsets or do this \"by hand\" below."
   ]
  },
  {
   "cell_type": "code",
   "execution_count": null,
   "metadata": {
    "collapsed": false
   },
   "outputs": [],
   "source": [
    "offset = [0., 0.]*u.arcsec"
   ]
  },
  {
   "cell_type": "markdown",
   "metadata": {},
   "source": [
    "# Loop over each orbit and correct the pointing for the same heliocentric pointing position.\n",
    "\n",
    "Note that you may want to update the pointing for solar rotation. That's up to the user to decide and is not done here."
   ]
  },
  {
   "cell_type": "code",
   "execution_count": null,
   "metadata": {
    "collapsed": false,
    "scrolled": true
   },
   "outputs": [],
   "source": [
    "for ind, orbit in enumerate(orbits):\n",
    "    midTime = (0.5*(orbit[1] - orbit[0]) + orbit[0])\n",
    "    sky_pos = planning.get_skyfield_position(midTime, offset, parallax_correction=True)\n",
    "    print(\"Orbit: {}\".format(ind))\n",
    "    print(\"Orbit start: {} Orbit end: {}\".format(orbit[0].isoformat(), orbit[1].isoformat()))\n",
    "    print('Aim time: {} RA (deg): {} Dec (deg): {}'.format(midTime.isoformat(), sky_pos[0], sky_pos[1]))\n",
    "    print(\"\")"
   ]
  },
  {
   "cell_type": "markdown",
   "metadata": {},
   "source": [
    "# Below is prototypes for making mosaics.\n",
    "\n",
    "## There are current funky skyfield issues happening, but you can use the make_mosaic command with an orbit of the type loaded above to produce a 5x5 mosaic tile.\n",
    "\n"
   ]
  },
  {
   "cell_type": "code",
   "execution_count": null,
   "metadata": {
    "collapsed": false
   },
   "outputs": [],
   "source": [
    "def make_mosaic(orbit, outfile='mosaic.txt', write_output=False, make_regions=False):\n",
    "    ''' \n",
    "    Code to make a mosaic for a 4x4 tiled array on the Sun.\n",
    "    \n",
    "    Input: orbit\n",
    "    \n",
    "    ...of the type you get from doing:\n",
    "    \n",
    "    orbits = planning.sunlight_periods(fname, tstart, tend)\n",
    "    \n",
    "    Syntax:\n",
    "    positions = make_mosaic(orbit, write_output=True)\n",
    "    \n",
    "    Optional flags:\n",
    "    \n",
    "    write_output = [False] / True\n",
    "        Write the output pointing positions in NuSTAR SOC readable formats in 'outfile' for all of the pointings.\n",
    "\n",
    "    outfile = ['mosaic.txt']\n",
    "        Output file if write_output is used.\n",
    "    \n",
    "    make_regions: [False] / True\n",
    "        Make ds9 region files for each tile so that you can see how the FoV moves with each mosaic location.\n",
    "\n",
    "    Output mosaic file has columns of:\n",
    "    \"Arrive By Time\"     RA      DEC   RA_SUN  DEC_SUN\n",
    "\n",
    "    '''\n",
    "    import numpy as np\n",
    "    box_pa = planning.get_nustar_roll(orbit[0], 0)\n",
    "    pa = box_pa + 90*u.deg\n",
    "    \n",
    "    print('Step PA', pa)\n",
    "\n",
    "    base = np.array([-1.45, -0.725, 0, 0.725, 1.45])\n",
    "    xsteps = np.append(base, np.flip(base, 0))\n",
    "    xsteps = np.append(xsteps, base)\n",
    "    xsteps = np.append(xsteps, np.flip(base, 0))\n",
    "    xsteps = np.append(xsteps, base)\n",
    "\n",
    "    ysteps = np.array(np.zeros(5) + 1.45)\n",
    "    ysteps = np.append(ysteps, np.zeros(5) + 0.725)\n",
    "    ysteps = np.append(ysteps, np.zeros(5))\n",
    "    ysteps = np.append(ysteps, np.zeros(5)-0.725)\n",
    "    ysteps = np.append(ysteps, np.zeros(5)-1.45)\n",
    "\n",
    "    \n",
    "    dt = (orbit[1] - orbit[0]) / 25.\n",
    "\n",
    "    print(\"Orbit start: {} Orbit end: {}\".format(orbit[0].isoformat(), orbit[1].isoformat()))\n",
    "    print(\"Dwell per position:\", dt)\n",
    "    print(\"\")\n",
    "    print(\"NuSTAR Roll Angle to get DET0 in top right {:.02f} deg\".format(box_pa.value))\n",
    "    print(\"\")\n",
    "\n",
    "\n",
    "    if write_output is True:\n",
    "        f = open(outfile, 'w')\n",
    "    \n",
    "    aim_time = orbit[0]\n",
    "    for ind, pair in enumerate(zip(xsteps, ysteps)):\n",
    "        arrive_time = aim_time\n",
    "        aim_time = aim_time + dt\n",
    "        # Rotate to the correct PA angle\n",
    "\n",
    "        delx = -pair[0]*10/60.\n",
    "        dely = pair[1]*10/60\n",
    "        \n",
    "        offset = [0., 0.]*u.deg\n",
    "        sun_pos = planning.get_skyfield_position(aim_time, offset, load_path='../data', parallax_correction=True)\n",
    "#        print('Sun time: {} RA (deg): {} Dec (deg): {}'.format(aim_time.isoformat(), sun_pos[0], sun_pos[1]))\n",
    "        \n",
    "        offset = [-delx,dely]*u.deg\n",
    "        sky_pos = planning.get_skyfield_position(aim_time, offset, load_path='../data', parallax_correction=True)\n",
    "#        print('Arrive time: {} RA (deg): {} Dec (deg): {}'.format(arrive_time.isoformat(), sky_pos[0], sky_pos[1]))\n",
    "\n",
    "        if make_regions:\n",
    "            make_test_region(sky_pos[0], sky_pos[1], box_pa, sun_pos[0], sun_pos[1],box_pa, outname='testbox{}.reg'.format(ind))\n",
    "        if write_output:            \n",
    "            f.write('{0} {1:.4f} {2:.4f} {3:.4f} {4:.4f}\\n'.format(arrive_time.strftime('%Y:%j:%H:%M:%S'),\n",
    "                                                   sky_pos[0].value, sky_pos[1].value,\n",
    "                                                    sun_pos[0].value, sun_pos[1].value))\n",
    "\n",
    "\n",
    "        \n",
    "    if write_output:\n",
    "        f.close()\n"
   ]
  },
  {
   "cell_type": "code",
   "execution_count": null,
   "metadata": {
    "collapsed": true
   },
   "outputs": [],
   "source": [
    "def make_test_region(boxra, boxdec, boxpa, sunra, sundec, sunpa, outname='testbox.reg'):\n",
    "    \n",
    "    f = open(outname, 'w')\n",
    "    f.write(\"# Region file format: DS9 version 4.1\\n\")\n",
    "    f.write('global color=green dashlist=8 3 width=1 font=\"helvetica 10 normal roman\" select=1 highlite=1 dash=0 fixed=0 edit=1 move=1 delete=1 include=1 \\\n",
    "source=1 \\n')\n",
    "    f.write('fk5 \\n')\n",
    "    \n",
    "    outstring = 'box({0}, {1}, 720\", 720\", {2})'.format(boxra.value, boxdec.value, boxpa.value+90 % 360)\n",
    "    f.write(outstring+'\\n')\n",
    "    \n",
    "    outstring = 'circle({0}, {1}, 960.5\")'.format(sunra.value, sundec.value)\n",
    "\n",
    "\n",
    "    f.write(outstring+'\\n')\n",
    "\n",
    "    outstring = 'vector({0}, {1}, 960.5\", {2})'.format(sunra.value, sundec.value, sunpa.value+90 % 360 )\n",
    "    f.write(outstring+'\\n')\n",
    "\n",
    "    f.close\n",
    "    return\n",
    "\n"
   ]
  },
  {
   "cell_type": "markdown",
   "metadata": {},
   "source": [
    "# This is where you actually make the Mosaic"
   ]
  },
  {
   "cell_type": "code",
   "execution_count": null,
   "metadata": {
    "collapsed": false,
    "scrolled": false
   },
   "outputs": [],
   "source": [
    "# Just use the first orbit...or choose one. This may download a ton of deltat.preds, which is a known \n",
    "# bug to be fixed.\n",
    "\n",
    "orbit = orbits[0]\n",
    "make_mosaic(orbits[0], write_output=True, make_regions=True)"
   ]
  },
  {
   "cell_type": "code",
   "execution_count": null,
   "metadata": {
    "collapsed": true
   },
   "outputs": [],
   "source": []
  }
 ],
 "metadata": {
  "anaconda-cloud": {},
  "kernelspec": {
   "display_name": "Python [default]",
   "language": "python",
   "name": "python3"
  },
  "language_info": {
   "codemirror_mode": {
    "name": "ipython",
    "version": 3
   },
   "file_extension": ".py",
   "mimetype": "text/x-python",
   "name": "python",
   "nbconvert_exporter": "python",
   "pygments_lexer": "ipython3",
   "version": "3.5.1"
  }
 },
 "nbformat": 4,
 "nbformat_minor": 2
}
