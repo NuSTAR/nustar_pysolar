{
 "cells": [
  {
   "cell_type": "code",
   "execution_count": 1,
   "metadata": {
    "collapsed": false
   },
   "outputs": [
    {
     "name": "stderr",
     "output_type": "stream",
     "text": [
      "WARNING: AstropyDeprecationWarning: astropy.utils.compat.odict.OrderedDict is now deprecated - import OrderedDict from the collections module instead [astropy.utils.compat.odict]\n"
     ]
    }
   ],
   "source": [
    "from nustar_pysolar import planning, io\n",
    "import astropy.units as u"
   ]
  },
  {
   "cell_type": "markdown",
   "metadata": {},
   "source": [
    "# Download the list of occultation periods from the MOC at Berkeley.\n",
    "\n",
    "## Note that the occultation periods typically only are stored at Berkeley for the *future* and not for the past. So this is only really useful for observation planning."
   ]
  },
  {
   "cell_type": "code",
   "execution_count": 2,
   "metadata": {
    "collapsed": false
   },
   "outputs": [
    {
     "name": "stdout",
     "output_type": "stream",
     "text": [
      "../data/NUSTAR.2017_150.SHADOW_ANALYSIS.txt\n"
     ]
    }
   ],
   "source": [
    "fname = io.download_occultation_times(outdir='../data/')\n",
    "print(fname)"
   ]
  },
  {
   "cell_type": "markdown",
   "metadata": {},
   "source": [
    "# Download the NuSTAR TLE archive.\n",
    "\n",
    "This contains every two-line element (TLE) that we've received for the whole mission. We'll expand on how to use this later.\n",
    "\n",
    "The `times`, `line1`, and `line2` elements are now the TLE elements for each epoch."
   ]
  },
  {
   "cell_type": "code",
   "execution_count": 3,
   "metadata": {
    "collapsed": false
   },
   "outputs": [
    {
     "name": "stdout",
     "output_type": "stream",
     "text": [
      "../data/NuSTAR.tle\n"
     ]
    }
   ],
   "source": [
    "tlefile = io.download_tle(outdir='../data')\n",
    "print(tlefile)\n",
    "times, line1, line2 = io.read_tle_file(tlefile)"
   ]
  },
  {
   "cell_type": "markdown",
   "metadata": {},
   "source": [
    "# Here is where we define the observing window that we want to use.\n",
    "\n",
    "Note that tstart and tend must be in the future otherwise you won't find any occultation times and sunlight_periods will return an error."
   ]
  },
  {
   "cell_type": "code",
   "execution_count": 4,
   "metadata": {
    "collapsed": true
   },
   "outputs": [],
   "source": [
    "tstart = '2017-06-10T12:00:00'\n",
    "tend = '2017-06-10T20:00:00'\n",
    "orbits = planning.sunlight_periods(fname, tstart, tend)"
   ]
  },
  {
   "cell_type": "markdown",
   "metadata": {},
   "source": [
    "# We want to know how to orient NuSTAR for the Sun.\n",
    "\n",
    "We can more or less pick any angle that we want. But this angle has to be specified a little in advance so that the NuSTAR SOC can plan the \"slew in\" maneuvers. Below puts DET0 in the top left corner (north-east with respect to RA/Dec coordinates).\n",
    "\n",
    "### This is what you tell the SOC you want the \"Sky PA angle\" to be."
   ]
  },
  {
   "cell_type": "code",
   "execution_count": 5,
   "metadata": {
    "collapsed": false
   },
   "outputs": [
    {
     "name": "stdout",
     "output_type": "stream",
     "text": [
      "NuSTAR Roll angle for Det0 in NE quadrant: 348.3764402915343 deg\n"
     ]
    }
   ],
   "source": [
    "pa = planning.get_nustar_roll(tstart, 0)\n",
    "print(\"NuSTAR Roll angle for Det0 in NE quadrant: {}\".format(pa))"
   ]
  },
  {
   "cell_type": "markdown",
   "metadata": {},
   "source": [
    "# Set up the offset you want to use here:\n",
    "\n",
    "The first element is the direction +WEST of the center of the Sun, the second is the offset +NORTH of the center of the Sun.\n",
    "\n",
    "If you want multiple pointing locations you can either specify an array of offsets or do this \"by hand\" below."
   ]
  },
  {
   "cell_type": "code",
   "execution_count": 6,
   "metadata": {
    "collapsed": false
   },
   "outputs": [],
   "source": [
    "offset = [-190., -47.]*u.arcsec"
   ]
  },
  {
   "cell_type": "markdown",
   "metadata": {},
   "source": [
    "# Loop over each orbit and see what the difference between the two methods is\n",
    "\n",
    "Note that you may want to update the pointing for solar rotation. That's up to the user to decide and is not done here.\n",
    "\n",
    "*Looks like a fixed shift...probably some time-ephemeris issue.*"
   ]
  },
  {
   "cell_type": "code",
   "execution_count": 7,
   "metadata": {
    "collapsed": false
   },
   "outputs": [
    {
     "name": "stdout",
     "output_type": "stream",
     "text": [
      "Orbit: 0\n",
      "Orbit start: 2017-06-10T11:25:40 Orbit end: 2017-06-10T12:27:30\n",
      "Aim time: 2017-06-10T11:56:35 RA (deg): 78.69718876009287 deg Dec (deg): 23.0238274997264 deg\n",
      "SkyField Aim time: 2017-06-10T11:56:35 RA (deg): 78.70325511331194 deg Dec (deg): 23.024266303242694 deg\n",
      "\n",
      "Offset between SkyField and Astropy: 20.16118641902529 arcsec\n",
      "\n",
      "Orbit: 1\n",
      "Orbit start: 2017-06-10T13:02:20 Orbit end: 2017-06-10T14:04:10\n",
      "Aim time: 2017-06-10T13:33:15 RA (deg): 78.76668616118683 deg Dec (deg): 23.02881188444142 deg\n",
      "SkyField Aim time: 2017-06-10T13:33:15 RA (deg): 78.77275293085837 deg Dec (deg): 23.02924803267842 deg\n",
      "\n",
      "Offset between SkyField and Astropy: 20.161074567152998 arcsec\n",
      "\n",
      "Orbit: 2\n",
      "Orbit start: 2017-06-10T14:39:00 Orbit end: 2017-06-10T15:40:50\n",
      "Aim time: 2017-06-10T15:09:55 RA (deg): 78.83618771028821 deg Dec (deg): 23.033765804969477 deg\n",
      "SkyField Aim time: 2017-06-10T15:09:55 RA (deg): 78.84225489427135 deg Dec (deg): 23.034199297206257 deg\n",
      "\n",
      "Offset between SkyField and Astropy: 20.160964271832754 arcsec\n",
      "\n",
      "Orbit: 3\n",
      "Orbit start: 2017-06-10T16:15:40 Orbit end: 2017-06-10T17:17:30\n",
      "Aim time: 2017-06-10T16:46:35 RA (deg): 78.90569338454985 deg Dec (deg): 23.03868925382892 deg\n",
      "SkyField Aim time: 2017-06-10T16:46:35 RA (deg): 78.91176098069784 deg Dec (deg): 23.039120089351268 deg\n",
      "\n",
      "Offset between SkyField and Astropy: 20.16085552464755 arcsec\n",
      "\n",
      "Orbit: 4\n",
      "Orbit start: 2017-06-10T17:52:20 Orbit end: 2017-06-10T18:54:20\n",
      "Aim time: 2017-06-10T18:23:20 RA (deg): 78.97526308507165 deg Dec (deg): 23.04358642851394 deg\n",
      "SkyField Aim time: 2017-06-10T18:23:20 RA (deg): 78.98133109125878 deg Dec (deg): 23.04401460430017 deg\n",
      "\n",
      "Offset between SkyField and Astropy: 20.160747143358133 arcsec\n",
      "\n"
     ]
    }
   ],
   "source": [
    "from astropy.coordinates import SkyCoord\n",
    "for ind, orbit in enumerate(orbits):\n",
    "    midTime = (0.5*(orbit[1] - orbit[0]) + orbit[0])\n",
    "    sky_pos = planning.get_sky_position(midTime, offset)\n",
    "    print(\"Orbit: {}\".format(ind))\n",
    "    print(\"Orbit start: {} Orbit end: {}\".format(orbit[0].isoformat(), orbit[1].isoformat()))\n",
    "    print('Aim time: {} RA (deg): {} Dec (deg): {}'.format(midTime.isoformat(), sky_pos[0], sky_pos[1]))\n",
    "    skyfield_pos = planning.get_skyfield_position(midTime, offset, load_path='../data')\n",
    "    print('SkyField Aim time: {} RA (deg): {} Dec (deg): {}'.format(midTime.isoformat(), skyfield_pos[0], skyfield_pos[1]))\n",
    "    skyfield_ephem = SkyCoord(skyfield_pos[0], skyfield_pos[1])\n",
    "    sunpy_ephem = SkyCoord(sky_pos[0], sky_pos[1])\n",
    "    print(\"\")\n",
    "    print(\"Offset between SkyField and Astropy: {} arcsec\".format(skyfield_ephem.separation(sunpy_ephem).arcsec))\n",
    "    print(\"\")\n",
    "         "
   ]
  },
  {
   "cell_type": "markdown",
   "metadata": {},
   "source": [
    "# Okay, now check to see what the parallax does in each orbit.\n",
    "\n",
    "### Compare Astropy/Sunpy to what you get when you correct for the orbital parallax. Every step below is 100 seconds.\n",
    "\n"
   ]
  },
  {
   "cell_type": "code",
   "execution_count": 8,
   "metadata": {
    "collapsed": false
   },
   "outputs": [
    {
     "name": "stdout",
     "output_type": "stream",
     "text": [
      "Offset between parallax-corrected positions and Astropy/Sunpy is 28.701866244373303 arcsec\n",
      "Offset between parallax-corrected positions and Astropy/Sunpy is 29.0917263437428 arcsec\n",
      "Offset between parallax-corrected positions and Astropy/Sunpy is 29.37961960726448 arcsec\n",
      "Offset between parallax-corrected positions and Astropy/Sunpy is 29.562423247836275 arcsec\n",
      "Offset between parallax-corrected positions and Astropy/Sunpy is 29.63821137474459 arcsec\n",
      "Offset between parallax-corrected positions and Astropy/Sunpy is 29.606262228338366 arcsec\n",
      "Offset between parallax-corrected positions and Astropy/Sunpy is 29.467077830353634 arcsec\n",
      "Offset between parallax-corrected positions and Astropy/Sunpy is 29.222363663129972 arcsec\n",
      "Offset between parallax-corrected positions and Astropy/Sunpy is 28.87501922601281 arcsec\n",
      "Offset between parallax-corrected positions and Astropy/Sunpy is 28.429090278155133 arcsec\n",
      "Offset between parallax-corrected positions and Astropy/Sunpy is 27.889731190910098 arcsec\n",
      "Offset between parallax-corrected positions and Astropy/Sunpy is 27.26313124306445 arcsec\n",
      "Offset between parallax-corrected positions and Astropy/Sunpy is 26.556451072835003 arcsec\n",
      "Offset between parallax-corrected positions and Astropy/Sunpy is 25.777725897484714 arcsec\n",
      "Offset between parallax-corrected positions and Astropy/Sunpy is 24.935779778556956 arcsec\n",
      "Offset between parallax-corrected positions and Astropy/Sunpy is 24.040110275068944 arcsec\n",
      "Offset between parallax-corrected positions and Astropy/Sunpy is 23.100786083346147 arcsec\n",
      "Offset between parallax-corrected positions and Astropy/Sunpy is 22.128319501105995 arcsec\n",
      "Offset between parallax-corrected positions and Astropy/Sunpy is 21.13355536166677 arcsec\n",
      "Offset between parallax-corrected positions and Astropy/Sunpy is 20.12754041678356 arcsec\n",
      "Offset between parallax-corrected positions and Astropy/Sunpy is 19.121414638457676 arcsec\n",
      "Offset between parallax-corrected positions and Astropy/Sunpy is 18.12629005832809 arcsec\n",
      "Offset between parallax-corrected positions and Astropy/Sunpy is 17.153159070179605 arcsec\n",
      "Offset between parallax-corrected positions and Astropy/Sunpy is 16.212798246475444 arcsec\n",
      "Offset between parallax-corrected positions and Astropy/Sunpy is 15.315707966559975 arcsec\n",
      "Offset between parallax-corrected positions and Astropy/Sunpy is 14.4720596578573 arcsec\n",
      "Offset between parallax-corrected positions and Astropy/Sunpy is 13.691660488351614 arcsec\n",
      "Offset between parallax-corrected positions and Astropy/Sunpy is 12.983940355772585 arcsec\n",
      "Offset between parallax-corrected positions and Astropy/Sunpy is 12.35791417631529 arcsec\n",
      "Offset between parallax-corrected positions and Astropy/Sunpy is 11.82213425997552 arcsec\n",
      "Offset between parallax-corrected positions and Astropy/Sunpy is 11.384561036108943 arcsec\n",
      "Offset between parallax-corrected positions and Astropy/Sunpy is 11.05236760917375 arcsec\n",
      "Offset between parallax-corrected positions and Astropy/Sunpy is 10.831625923814297 arcsec\n",
      "Offset between parallax-corrected positions and Astropy/Sunpy is 10.72694549022162 arcsec\n",
      "Offset between parallax-corrected positions and Astropy/Sunpy is 10.741084545164814 arcsec\n",
      "Offset between parallax-corrected positions and Astropy/Sunpy is 10.874672906315944 arcsec\n",
      "Offset between parallax-corrected positions and Astropy/Sunpy is 11.126076955985157 arcsec\n",
      "Offset between parallax-corrected positions and Astropy/Sunpy is 11.49149012055706 arcsec\n"
     ]
    }
   ],
   "source": [
    "from astropy.coordinates import SkyCoord\n",
    "from datetime import timedelta\n",
    "for ind, orbit in enumerate(orbits):\n",
    "    midTime = orbit[0]\n",
    "    while(midTime < orbit[1]):\n",
    "        \n",
    "        sky_pos = planning.get_sky_position(midTime, offset)\n",
    "\n",
    "        skyfield_pos = planning.get_skyfield_position(midTime, offset, load_path='../data', parallax_corection=True)\n",
    "\n",
    "        skyfield_ephem = SkyCoord(skyfield_pos[0], skyfield_pos[1])\n",
    "        sunpy_ephem = SkyCoord(sky_pos[0], sky_pos[1])\n",
    "        print('Offset between parallax-corrected positions and Astropy/Sunpy is {} arcsec'.format(\n",
    "            skyfield_ephem.separation(sunpy_ephem).arcsec)\n",
    "             )\n",
    "        midTime += timedelta(seconds=100)\n",
    "        \n",
    "    break"
   ]
  },
  {
   "cell_type": "code",
   "execution_count": null,
   "metadata": {
    "collapsed": true
   },
   "outputs": [],
   "source": []
  }
 ],
 "metadata": {
  "anaconda-cloud": {},
  "kernelspec": {
   "display_name": "Python [default]",
   "language": "python",
   "name": "python3"
  },
  "language_info": {
   "codemirror_mode": {
    "name": "ipython",
    "version": 3
   },
   "file_extension": ".py",
   "mimetype": "text/x-python",
   "name": "python",
   "nbconvert_exporter": "python",
   "pygments_lexer": "ipython3",
   "version": "3.5.2"
  }
 },
 "nbformat": 4,
 "nbformat_minor": 2
}
