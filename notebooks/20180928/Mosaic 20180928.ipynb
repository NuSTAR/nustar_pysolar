{
 "cells": [
  {
   "cell_type": "code",
   "execution_count": 1,
   "metadata": {
    "collapsed": false
   },
   "outputs": [
    {
     "name": "stderr",
     "output_type": "stream",
     "text": [
      "WARNING: AstropyDeprecationWarning: \n",
      "The 'recommended_units' attribute is deprecated since 3.0 and may be removed\n",
      "in a future version. Its main use, of representing angles in degrees in frames,\n",
      "is now done automatically in frames. Further overrides are discouraged but can\n",
      "be done using a frame's ``frame_specific_representation_info``.\n",
      " [astropy.coordinates.representation]\n",
      "WARNING: AstropyDeprecationWarning: The truth value of a Quantity is ambiguous. In the future this will raise a ValueError. [astropy.units.quantity]\n"
     ]
    }
   ],
   "source": [
    "from nustar_pysolar import planning, io\n",
    "import astropy.units as u\n",
    "import warnings\n",
    "warnings.filterwarnings('ignore')"
   ]
  },
  {
   "cell_type": "markdown",
   "metadata": {},
   "source": [
    "# Download the list of occultation periods from the MOC at Berkeley.\n",
    "\n",
    "## Note that the occultation periods typically only are stored at Berkeley for the *future* and not for the past. So this is only really useful for observation planning."
   ]
  },
  {
   "cell_type": "code",
   "execution_count": 2,
   "metadata": {
    "collapsed": false
   },
   "outputs": [
    {
     "name": "stdout",
     "output_type": "stream",
     "text": [
      "../data/NUSTAR.2018_268.SHADOW_ANALYSIS.txt\n"
     ]
    }
   ],
   "source": [
    "fname = io.download_occultation_times(outdir='../data/')\n",
    "print(fname)"
   ]
  },
  {
   "cell_type": "markdown",
   "metadata": {},
   "source": [
    "# Download the NuSTAR TLE archive.\n",
    "\n",
    "This contains every two-line element (TLE) that we've received for the whole mission. We'll expand on how to use this later.\n",
    "\n",
    "The `times`, `line1`, and `line2` elements are now the TLE elements for each epoch."
   ]
  },
  {
   "cell_type": "code",
   "execution_count": 3,
   "metadata": {
    "collapsed": false
   },
   "outputs": [
    {
     "name": "stdout",
     "output_type": "stream",
     "text": [
      "../data/NuSTAR.tle\n"
     ]
    }
   ],
   "source": [
    "tlefile = io.download_tle(outdir='../data')\n",
    "print(tlefile)\n",
    "times, line1, line2 = io.read_tle_file(tlefile)"
   ]
  },
  {
   "cell_type": "markdown",
   "metadata": {},
   "source": [
    "# Here is where we define the observing window that we want to use.\n",
    "\n",
    "Note that tstart and tend must be in the future otherwise you won't find any occultation times and sunlight_periods will return an error."
   ]
  },
  {
   "cell_type": "code",
   "execution_count": 4,
   "metadata": {
    "collapsed": false
   },
   "outputs": [],
   "source": [
    "tstart = '2018-09-27T12:00:00'\n",
    "tend = '2018-09-29T12:10:00'\n",
    "orbits = planning.sunlight_periods(fname, tstart, tend)"
   ]
  },
  {
   "cell_type": "markdown",
   "metadata": {},
   "source": [
    "# We want to know how to orient NuSTAR for the Sun.\n",
    "\n",
    "We can more or less pick any angle that we want. But this angle has to be specified a little in advance so that the NuSTAR SOC can plan the \"slew in\" maneuvers. Below puts DET0 in the top left corner (north-east with respect to RA/Dec coordinates).\n",
    "\n",
    "### This is what you tell the SOC you want the \"Sky PA angle\" to be."
   ]
  },
  {
   "cell_type": "code",
   "execution_count": null,
   "metadata": {
    "collapsed": false
   },
   "outputs": [],
   "source": [
    "pa = planning.get_nustar_roll(tstart, 0)\n",
    "print(\"NuSTAR Roll angle for Det0 in NE quadrant: {}\".format(pa))"
   ]
  },
  {
   "cell_type": "markdown",
   "metadata": {},
   "source": [
    "# Set up the offset you want to use here:\n",
    "\n",
    "The first element is the direction +WEST of the center of the Sun, the second is the offset +NORTH of the center of the Sun.\n",
    "\n",
    "If you want multiple pointing locations you can either specify an array of offsets or do this \"by hand\" below."
   ]
  },
  {
   "cell_type": "code",
   "execution_count": 5,
   "metadata": {
    "collapsed": false
   },
   "outputs": [],
   "source": [
    "offset = [0., 0.]*u.arcsec"
   ]
  },
  {
   "cell_type": "markdown",
   "metadata": {},
   "source": [
    "# Loop over each orbit and correct the pointing for the same heliocentric pointing position.\n",
    "\n",
    "Note that you may want to update the pointing for solar rotation. That's up to the user to decide and is not done here."
   ]
  },
  {
   "cell_type": "code",
   "execution_count": 6,
   "metadata": {
    "collapsed": false,
    "scrolled": true
   },
   "outputs": [
    {
     "name": "stderr",
     "output_type": "stream",
     "text": [
      "[#################################] 100% deltat.data\n",
      "[#################################] 100% Leap_Second.dat\n"
     ]
    },
    {
     "name": "stdout",
     "output_type": "stream",
     "text": [
      "Orbit: 0\n",
      "Orbit start: 2018-09-27T11:47:30 Orbit end: 2018-09-27T12:48:50\n",
      "Aim time: 2018-09-27T12:18:10 RA (deg): 183.75361356568973 deg Dec (deg): -1.625719371459118 deg\n",
      "\n",
      "Orbit: 1\n",
      "Orbit start: 2018-09-27T13:24:10 Orbit end: 2018-09-27T14:25:30\n",
      "Aim time: 2018-09-27T13:54:50 RA (deg): 183.8140598312915 deg Dec (deg): -1.651848616119325 deg\n",
      "\n",
      "Orbit: 2\n",
      "Orbit start: 2018-09-27T15:00:50 Orbit end: 2018-09-27T16:02:10\n",
      "Aim time: 2018-09-27T15:31:30 RA (deg): 183.87451015897653 deg Dec (deg): -1.6779770391065716 deg\n",
      "\n",
      "Orbit: 3\n",
      "Orbit start: 2018-09-27T16:37:30 Orbit end: 2018-09-27T17:38:50\n",
      "Aim time: 2018-09-27T17:08:10 RA (deg): 183.93496457952233 deg Dec (deg): -1.7041046132672741 deg\n",
      "\n",
      "Orbit: 4\n",
      "Orbit start: 2018-09-27T18:14:10 Orbit end: 2018-09-27T19:15:20\n",
      "Aim time: 2018-09-27T18:44:45 RA (deg): 183.9953853799726 deg Dec (deg): -1.730207465641824 deg\n",
      "\n",
      "Orbit: 5\n",
      "Orbit start: 2018-09-27T19:50:50 Orbit end: 2018-09-27T20:52:00\n",
      "Aim time: 2018-09-27T20:21:25 RA (deg): 184.05584807362263 deg Dec (deg): -1.7563332675768444 deg\n",
      "\n",
      "Orbit: 6\n",
      "Orbit start: 2018-09-27T21:27:30 Orbit end: 2018-09-27T22:28:40\n",
      "Aim time: 2018-09-27T21:58:05 RA (deg): 184.1163149494681 deg Dec (deg): -1.7824581376201163 deg\n",
      "\n",
      "Orbit: 7\n",
      "Orbit start: 2018-09-27T23:04:10 Orbit end: 2018-09-28T00:05:20\n",
      "Aim time: 2018-09-27T23:34:45 RA (deg): 184.17678603903374 deg Dec (deg): -1.8085820489443332 deg\n",
      "\n",
      "Orbit: 8\n",
      "Orbit start: 2018-09-28T00:40:50 Orbit end: 2018-09-28T01:42:00\n",
      "Aim time: 2018-09-28T01:11:25 RA (deg): 184.23726137164883 deg Dec (deg): -1.8347049735933072 deg\n",
      "\n",
      "Orbit: 9\n",
      "Orbit start: 2018-09-28T02:17:20 Orbit end: 2018-09-28T03:18:40\n",
      "Aim time: 2018-09-28T02:48:00 RA (deg): 184.29770322148536 deg Dec (deg): -1.8608030756632203 deg\n",
      "\n",
      "Orbit: 10\n",
      "Orbit start: 2018-09-28T03:54:00 Orbit end: 2018-09-28T04:55:20\n",
      "Aim time: 2018-09-28T04:24:40 RA (deg): 184.358187127757 deg Dec (deg): -1.8869239533280437 deg\n",
      "\n",
      "Orbit: 11\n",
      "Orbit start: 2018-09-28T05:30:40 Orbit end: 2018-09-28T06:32:00\n",
      "Aim time: 2018-09-28T06:01:20 RA (deg): 184.41867536674616 deg Dec (deg): -1.9130437614726525 deg\n",
      "\n",
      "Orbit: 12\n",
      "Orbit start: 2018-09-28T07:07:20 Orbit end: 2018-09-28T08:08:40\n",
      "Aim time: 2018-09-28T07:38:00 RA (deg): 184.47916796899807 deg Dec (deg): -1.9391624728524897 deg\n",
      "\n",
      "Orbit: 13\n",
      "Orbit start: 2018-09-28T08:44:00 Orbit end: 2018-09-28T09:45:20\n",
      "Aim time: 2018-09-28T09:14:40 RA (deg): 184.5396649641145 deg Dec (deg): -1.9652800596363136 deg\n",
      "\n",
      "Orbit: 14\n",
      "Orbit start: 2018-09-28T10:20:40 Orbit end: 2018-09-28T11:22:00\n",
      "Aim time: 2018-09-28T10:51:20 RA (deg): 184.60016638196825 deg Dec (deg): -1.9913964941719113 deg\n",
      "\n",
      "Orbit: 15\n",
      "Orbit start: 2018-09-28T11:57:20 Orbit end: 2018-09-28T12:58:40\n",
      "Aim time: 2018-09-28T12:28:00 RA (deg): 184.6606722523983 deg Dec (deg): -2.0175117487942527 deg\n",
      "\n",
      "Orbit: 16\n",
      "Orbit start: 2018-09-28T13:34:00 Orbit end: 2018-09-28T14:35:20\n",
      "Aim time: 2018-09-28T14:04:40 RA (deg): 184.72118260520833 deg Dec (deg): -2.0436257958247768 deg\n",
      "\n",
      "Orbit: 17\n",
      "Orbit start: 2018-09-28T15:10:40 Orbit end: 2018-09-28T16:12:00\n",
      "Aim time: 2018-09-28T15:41:20 RA (deg): 184.78169747016562 deg Dec (deg): -2.069738607571108 deg\n",
      "\n",
      "Orbit: 18\n",
      "Orbit start: 2018-09-28T16:47:20 Orbit end: 2018-09-28T17:48:40\n",
      "Aim time: 2018-09-28T17:18:00 RA (deg): 184.84221687700008 deg Dec (deg): -2.095850156326551 deg\n",
      "\n",
      "Orbit: 19\n",
      "Orbit start: 2018-09-28T18:24:00 Orbit end: 2018-09-28T19:25:20\n",
      "Aim time: 2018-09-28T18:54:40 RA (deg): 184.90274085540284 deg Dec (deg): -2.121960414369625 deg\n",
      "\n",
      "Orbit: 20\n",
      "Orbit start: 2018-09-28T20:00:40 Orbit end: 2018-09-28T21:02:00\n",
      "Aim time: 2018-09-28T20:31:20 RA (deg): 184.9632694350251 deg Dec (deg): -2.1480693539635745 deg\n",
      "\n",
      "Orbit: 21\n",
      "Orbit start: 2018-09-28T21:37:20 Orbit end: 2018-09-28T22:38:40\n",
      "Aim time: 2018-09-28T22:08:00 RA (deg): 185.0238026454773 deg Dec (deg): -2.1741769473560497 deg\n",
      "\n",
      "Orbit: 22\n",
      "Orbit start: 2018-09-28T23:14:00 Orbit end: 2018-09-29T00:15:20\n",
      "Aim time: 2018-09-28T23:44:40 RA (deg): 185.0843405163274 deg Dec (deg): -2.2002831667784046 deg\n",
      "\n",
      "Orbit: 23\n",
      "Orbit start: 2018-09-29T00:50:40 Orbit end: 2018-09-29T01:52:00\n",
      "Aim time: 2018-09-29T01:21:20 RA (deg): 185.1448830771 deg Dec (deg): -2.226387984445387 deg\n",
      "\n",
      "Orbit: 24\n",
      "Orbit start: 2018-09-29T02:27:20 Orbit end: 2018-09-29T03:28:40\n",
      "Aim time: 2018-09-29T02:58:00 RA (deg): 185.20543035697114 deg Dec (deg): -2.2524913723642555 deg\n",
      "\n",
      "Orbit: 25\n",
      "Orbit start: 2018-09-29T04:04:00 Orbit end: 2018-09-29T05:05:20\n",
      "Aim time: 2018-09-29T04:34:40 RA (deg): 185.26598238598342 deg Dec (deg): -2.278593303095897 deg\n",
      "\n",
      "Orbit: 26\n",
      "Orbit start: 2018-09-29T05:40:40 Orbit end: 2018-09-29T06:42:00\n",
      "Aim time: 2018-09-29T06:11:20 RA (deg): 185.3265391932202 deg Dec (deg): -2.3046937486118244 deg\n",
      "\n",
      "Orbit: 27\n",
      "Orbit start: 2018-09-29T07:17:20 Orbit end: 2018-09-29T08:18:40\n",
      "Aim time: 2018-09-29T07:48:00 RA (deg): 185.3871008080209 deg Dec (deg): -2.330792681055481 deg\n",
      "\n",
      "Orbit: 28\n",
      "Orbit start: 2018-09-29T08:54:00 Orbit end: 2018-09-29T09:55:20\n",
      "Aim time: 2018-09-29T09:24:40 RA (deg): 185.44766725967577 deg Dec (deg): -2.3568900725513027 deg\n",
      "\n",
      "Orbit: 29\n",
      "Orbit start: 2018-09-29T10:30:40 Orbit end: 2018-09-29T11:32:00\n",
      "Aim time: 2018-09-29T11:01:20 RA (deg): 185.50823857742458 deg Dec (deg): -2.3829858952042215 deg\n",
      "\n"
     ]
    }
   ],
   "source": [
    "for ind, orbit in enumerate(orbits):\n",
    "    midTime = (0.5*(orbit[1] - orbit[0]) + orbit[0])\n",
    "    sky_pos = planning.get_skyfield_position(midTime, offset, parallax_correction=True)\n",
    "    print(\"Orbit: {}\".format(ind))\n",
    "    print(\"Orbit start: {} Orbit end: {}\".format(orbit[0].isoformat(), orbit[1].isoformat()))\n",
    "    print('Aim time: {} RA (deg): {} Dec (deg): {}'.format(midTime.isoformat(), sky_pos[0], sky_pos[1]))\n",
    "    print(\"\")"
   ]
  },
  {
   "cell_type": "markdown",
   "metadata": {},
   "source": [
    "# This is where you actually make the Mosaic"
   ]
  },
  {
   "cell_type": "code",
   "execution_count": 9,
   "metadata": {
    "collapsed": false,
    "scrolled": false
   },
   "outputs": [
    {
     "name": "stdout",
     "output_type": "stream",
     "text": [
      "('Step PA', <Quantity 115.78189166 deg>)\n",
      "Orbit start: 2018-09-28T20:00:40 Orbit end: 2018-09-28T21:02:00\n",
      "('Dwell per position:', datetime.timedelta(0, 147, 200000))\n",
      "\n",
      "NuSTAR Roll Angle to get DET0 in top right 25.78 deg\n",
      "\n"
     ]
    }
   ],
   "source": [
    "# Just use the first orbit...or choose one. This may download a ton of deltat.preds, which is a known \n",
    "# bug to be fixed.\n",
    "\n",
    "orbit = orbits[20]\n",
    "planning.make_mosaic(orbit, write_output=True, make_regions=True)"
   ]
  },
  {
   "cell_type": "code",
   "execution_count": null,
   "metadata": {
    "collapsed": false
   },
   "outputs": [],
   "source": []
  },
  {
   "cell_type": "code",
   "execution_count": null,
   "metadata": {
    "collapsed": true
   },
   "outputs": [],
   "source": []
  }
 ],
 "metadata": {
  "anaconda-cloud": {},
  "kernelspec": {
   "display_name": "Python [default]",
   "language": "python",
   "name": "python3"
  },
  "language_info": {
   "codemirror_mode": {
    "name": "ipython",
    "version": 3
   },
   "file_extension": ".py",
   "mimetype": "text/x-python",
   "name": "python",
   "nbconvert_exporter": "python",
   "pygments_lexer": "ipython3",
   "version": "3.5.5"
  }
 },
 "nbformat": 4,
 "nbformat_minor": 2
}
