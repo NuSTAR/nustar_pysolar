{
 "cells": [
  {
   "cell_type": "code",
   "execution_count": 1,
   "metadata": {
    "collapsed": false
   },
   "outputs": [
    {
     "name": "stderr",
     "output_type": "stream",
     "text": [
      "WARNING: AstropyDeprecationWarning: \n",
      "The 'recommended_units' attribute is deprecated since 3.0 and may be removed\n",
      "in a future version. Its main use, of representing angles in degrees in frames,\n",
      "is now done automatically in frames. Further overrides are discouraged but can\n",
      "be done using a frame's ``frame_specific_representation_info``.\n",
      " [astropy.coordinates.representation]\n",
      "WARNING: AstropyDeprecationWarning: The truth value of a Quantity is ambiguous. In the future this will raise a ValueError. [astropy.units.quantity]\n"
     ]
    }
   ],
   "source": [
    "from nustar_pysolar import planning, io\n",
    "import astropy.units as u\n",
    "import warnings\n",
    "warnings.filterwarnings('ignore')"
   ]
  },
  {
   "cell_type": "markdown",
   "metadata": {},
   "source": [
    "# Download the list of occultation periods from the MOC at Berkeley.\n",
    "\n",
    "## Note that the occultation periods typically only are stored at Berkeley for the *future* and not for the past. So this is only really useful for observation planning."
   ]
  },
  {
   "cell_type": "code",
   "execution_count": 11,
   "metadata": {
    "collapsed": false
   },
   "outputs": [
    {
     "name": "stdout",
     "output_type": "stream",
     "text": [
      "../data/NUSTAR.2019_008.SHADOW_ANALYSIS.txt\n"
     ]
    }
   ],
   "source": [
    "fname = io.download_occultation_times(outdir='../data/')\n",
    "print(fname)"
   ]
  },
  {
   "cell_type": "markdown",
   "metadata": {},
   "source": [
    "# Download the NuSTAR TLE archive.\n",
    "\n",
    "This contains every two-line element (TLE) that we've received for the whole mission. We'll expand on how to use this later.\n",
    "\n",
    "The `times`, `line1`, and `line2` elements are now the TLE elements for each epoch."
   ]
  },
  {
   "cell_type": "code",
   "execution_count": 12,
   "metadata": {
    "collapsed": false
   },
   "outputs": [
    {
     "name": "stdout",
     "output_type": "stream",
     "text": [
      "../data/NuSTAR.tle\n"
     ]
    }
   ],
   "source": [
    "tlefile = io.download_tle(outdir='../data')\n",
    "print(tlefile)\n",
    "times, line1, line2 = io.read_tle_file(tlefile)"
   ]
  },
  {
   "cell_type": "markdown",
   "metadata": {},
   "source": [
    "# Here is where we define the observing window that we want to use.\n",
    "\n",
    "Note that tstart and tend must be in the future otherwise you won't find any occultation times and sunlight_periods will return an error."
   ]
  },
  {
   "cell_type": "code",
   "execution_count": 13,
   "metadata": {
    "collapsed": false
   },
   "outputs": [],
   "source": [
    "tstart = '2019-01-12T00:00:00'\n",
    "tend = '2019-01-12T23:00:00'\n",
    "orbits = planning.sunlight_periods(fname, tstart, tend)"
   ]
  },
  {
   "cell_type": "markdown",
   "metadata": {},
   "source": [
    "# We want to know how to orient NuSTAR for the Sun.\n",
    "\n",
    "We can more or less pick any angle that we want. But this angle has to be specified a little in advance so that the NuSTAR SOC can plan the \"slew in\" maneuvers. Below puts DET0 in the top left corner (north-east with respect to RA/Dec coordinates).\n",
    "\n",
    "### This is what you tell the SOC you want the \"Sky PA angle\" to be."
   ]
  },
  {
   "cell_type": "code",
   "execution_count": 14,
   "metadata": {
    "collapsed": false
   },
   "outputs": [
    {
     "name": "stdout",
     "output_type": "stream",
     "text": [
      "NuSTAR Roll angle for Det0 in NE quadrant: 356.9019354868723 deg\n"
     ]
    }
   ],
   "source": [
    "pa = planning.get_nustar_roll(tstart, 0)\n",
    "print(\"NuSTAR Roll angle for Det0 in NE quadrant: {}\".format(pa))"
   ]
  },
  {
   "cell_type": "markdown",
   "metadata": {},
   "source": [
    "# Orbit 1: VLA Target:\n",
    "\n",
    "Solar coordiantes [300, 195]\n",
    "\n"
   ]
  },
  {
   "cell_type": "code",
   "execution_count": 15,
   "metadata": {
    "collapsed": false
   },
   "outputs": [
    {
     "name": "stdout",
     "output_type": "stream",
     "text": [
      "Orbit start: 2019-01-12T16:33:30 Orbit end: 2019-01-12T17:35:30\n",
      "Aim time: 2019-01-12T17:04:30 RA (deg): 293.61046354602286 deg Dec (deg): -21.601593748257013 deg\n",
      "\n"
     ]
    }
   ],
   "source": [
    "orbit1 = orbits[10].copy()\n",
    "offset = [300, 195]*u.arcsec\n",
    "midTime = (0.5*(orbit1[1] - orbit1[0]) + orbit1[0])\n",
    "sky_pos = planning.get_skyfield_position(midTime, offset, load_path='../data', parallax_correction=True)\n",
    "print(\"Orbit start: {} Orbit end: {}\".format(orbit1[0].isoformat(), orbit1[1].isoformat()))\n",
    "print('Aim time: {} RA (deg): {} Dec (deg): {}'.format(midTime.isoformat(), sky_pos[0], sky_pos[1]))\n",
    "print(\"\")\n",
    "\n",
    "\n"
   ]
  },
  {
   "cell_type": "markdown",
   "metadata": {},
   "source": [
    "# Orbit 2: VLA Target:\n",
    "\n",
    "Solar coordiantes [420, 195]\n",
    "\n"
   ]
  },
  {
   "cell_type": "code",
   "execution_count": 16,
   "metadata": {
    "collapsed": false
   },
   "outputs": [
    {
     "name": "stdout",
     "output_type": "stream",
     "text": [
      "Orbit start: 2019-01-12T18:10:10 Orbit end: 2019-01-12T19:12:10\n",
      "Aim time: 2019-01-12T18:41:10 RA (deg): 293.64728753603265 deg Dec (deg): -21.592702885172454 deg\n",
      "\n"
     ]
    }
   ],
   "source": [
    "orbit2 = orbits[11]\n",
    "offset = [420, 195]*u.arcsec\n",
    "midTime = (0.5*(orbit2[1] - orbit2[0]) + orbit2[0])\n",
    "sky_pos = planning.get_skyfield_position(midTime, offset, load_path='../data', parallax_correction=True)\n",
    "print(\"Orbit start: {} Orbit end: {}\".format(orbit2[0].isoformat(), orbit2[1].isoformat()))\n",
    "print('Aim time: {} RA (deg): {} Dec (deg): {}'.format(midTime.isoformat(), sky_pos[0], sky_pos[1]))\n",
    "print(\"\")\n",
    "\n",
    "\n"
   ]
  },
  {
   "cell_type": "markdown",
   "metadata": {},
   "source": [
    "# This is where you actually make the Mosaic for Orbit 3"
   ]
  },
  {
   "cell_type": "code",
   "execution_count": 9,
   "metadata": {
    "collapsed": false,
    "scrolled": false
   },
   "outputs": [
    {
     "name": "stdout",
     "output_type": "stream",
     "text": [
      "[datetime.datetime(2019, 1, 12, 19, 46, 50), datetime.datetime(2019, 1, 12, 20, 31, 50)]\n",
      "Orbit start: 2019-01-12T19:46:50 Orbit end: 2019-01-12T20:31:50\n",
      "('Dwell per position:', 108.0)\n",
      "\n",
      "NuSTAR Roll Angle to get roll relative to Sun of 0.00 is 356.51 deg\n",
      "Step of FOV PA direction is 446.51 deg\n",
      "\n"
     ]
    }
   ],
   "source": [
    "# Just use the first orbit...or choose one. This may download a ton of deltat.preds, which is a known \n",
    "# bug to be fixed.\n",
    "\n",
    "# Orbit3: 1946-2048\n",
    "# Per Karl, SAA time 2031-2047\n",
    "# Trim mosaic to 1946-2031:\n",
    "\n",
    "orbit = orbits[12].copy()\n",
    "\n",
    "orbit[1] = orbit[1].replace(minute=31)\n",
    "print(orbit)\n",
    "planning.make_mosaic(orbit, make_regions=True, outfile='orbit3_mosaic.txt', write_output=True)\n"
   ]
  },
  {
   "cell_type": "markdown",
   "metadata": {
    "collapsed": true
   },
   "source": [
    "# Now make the parking location for the end of Orbit 3:"
   ]
  },
  {
   "cell_type": "code",
   "execution_count": 10,
   "metadata": {
    "collapsed": false
   },
   "outputs": [
    {
     "name": "stdout",
     "output_type": "stream",
     "text": [
      "Orbit start: 2019-01-12 20:31:50 Orbit end: 2019-01-12 20:48:50\n",
      "Aim time: 2019-01-12T20:40:20 RA (deg): 293.71284491161583 deg Dec (deg): -21.58027391140963 deg\n",
      "\n"
     ]
    }
   ],
   "source": [
    "tstart = orbit[1]\n",
    "tend = orbits[12][1]\n",
    "offset = [480, 195]*u.arcsec\n",
    "\n",
    "midTime = (0.5*(tend - tstart)) + tstart\n",
    "sky_pos = planning.get_sky_position(midTime, offset)\n",
    "print(\"Orbit start: {} Orbit end: {}\".format(tstart, tend))\n",
    "print('Aim time: {} RA (deg): {} Dec (deg): {}'.format(midTime.isoformat(), sky_pos[0], sky_pos[1]))\n",
    "print(\"\")\n",
    "\n",
    "\n",
    "\n"
   ]
  },
  {
   "cell_type": "markdown",
   "metadata": {
    "collapsed": false
   },
   "source": [
    "# Mosiac for orbit 4"
   ]
  },
  {
   "cell_type": "code",
   "execution_count": 13,
   "metadata": {
    "collapsed": false
   },
   "outputs": [
    {
     "name": "stdout",
     "output_type": "stream",
     "text": [
      "[datetime.datetime(2019, 1, 12, 21, 23, 30), datetime.datetime(2019, 1, 12, 22, 14, 30)]\n",
      "Orbit start: 2019-01-12T21:23:30 Orbit end: 2019-01-12T22:14:30\n",
      "('Dwell per position:', 122.4)\n",
      "\n",
      "NuSTAR Roll Angle to get roll relative to Sun of 0.00 is 356.48 deg\n",
      "Step of FOV PA direction is 446.48 deg\n",
      "\n"
     ]
    }
   ],
   "source": [
    "# Just use the first orbit...or choose one. This may download a ton of deltat.preds, which is a known \n",
    "# bug to be fixed.\n",
    "\n",
    "# Orbit4: 2123-2225\n",
    "\n",
    "# Per Karl, SAA time 2214-2230\n",
    "# Trim mosaic to 2214-2230\n",
    "orbit = orbits[13].copy()\n",
    "\n",
    "orbit[1] = orbit[1].replace(minute=14)\n",
    "print(orbit)\n",
    "planning.make_mosaic(orbit, make_regions=True, outfile='orbit4_mosaic.txt', write_output=True)\n",
    "\n",
    "\n",
    "\n"
   ]
  },
  {
   "cell_type": "markdown",
   "metadata": {},
   "source": [
    "# Now make the parking location for the end of Orbit 4:\n",
    "\n",
    "Rotated orbit 2 by +80 arcsec"
   ]
  },
  {
   "cell_type": "code",
   "execution_count": 16,
   "metadata": {
    "collapsed": false
   },
   "outputs": [
    {
     "name": "stdout",
     "output_type": "stream",
     "text": [
      "Orbit start: 2019-01-12 22:14:30 Orbit end: 2019-01-12 22:25:30\n",
      "Aim time: 2019-01-12T22:20:00 RA (deg): 293.77577004974904 deg Dec (deg): -21.569675994535743 deg\n",
      "\n"
     ]
    }
   ],
   "source": [
    "tstart = orbit[1]\n",
    "tend = orbits[13][1]\n",
    "offset = [520, 195]*u.arcsec\n",
    "\n",
    "midTime = (0.5*(tend - tstart)) + tstart\n",
    "sky_pos = planning.get_sky_position(midTime, offset)\n",
    "print(\"Orbit start: {} Orbit end: {}\".format(tstart, tend))\n",
    "print('Aim time: {} RA (deg): {} Dec (deg): {}'.format(midTime.isoformat(), sky_pos[0], sky_pos[1]))\n",
    "print(\"\")\n",
    "\n",
    "\n",
    "\n",
    "\n"
   ]
  },
  {
   "cell_type": "code",
   "execution_count": null,
   "metadata": {
    "collapsed": true
   },
   "outputs": [],
   "source": []
  }
 ],
 "metadata": {
  "anaconda-cloud": {},
  "kernelspec": {
   "display_name": "Python [conda env:anaconda]",
   "language": "python",
   "name": "conda-env-anaconda-py"
  },
  "language_info": {
   "codemirror_mode": {
    "name": "ipython",
    "version": 3
   },
   "file_extension": ".py",
   "mimetype": "text/x-python",
   "name": "python",
   "nbconvert_exporter": "python",
   "pygments_lexer": "ipython3",
   "version": "3.5.5"
  }
 },
 "nbformat": 4,
 "nbformat_minor": 2
}
