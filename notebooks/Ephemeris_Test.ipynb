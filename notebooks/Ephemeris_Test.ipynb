{
 "cells": [
  {
   "cell_type": "code",
   "execution_count": 1,
   "metadata": {
    "collapsed": false
   },
   "outputs": [
    {
     "name": "stderr",
     "output_type": "stream",
     "text": [
      "WARNING: AstropyDeprecationWarning: astropy.utils.compat.odict.OrderedDict is now deprecated - import OrderedDict from the collections module instead [astropy.utils.compat.odict]\n"
     ]
    }
   ],
   "source": [
    "from nustar_pysolar import planning\n",
    "import astropy.units as u\n",
    "from astropy.time import Time\n",
    "from astropy.coordinates import get_body, solar_system_ephemeris, get_body_barycentric, SkyCoord"
   ]
  },
  {
   "cell_type": "code",
   "execution_count": 2,
   "metadata": {
    "collapsed": false
   },
   "outputs": [
    {
     "name": "stdout",
     "output_type": "stream",
     "text": [
      "../data/NUSTAR.2017_129.SHADOW_ANALYSIS.txt\n"
     ]
    }
   ],
   "source": [
    "fname = planning.download_occultation_times(outdir='../data/')\n",
    "print(fname)"
   ]
  },
  {
   "cell_type": "code",
   "execution_count": 3,
   "metadata": {
    "collapsed": false
   },
   "outputs": [
    {
     "data": {
      "text/plain": [
       "<ScienceState solar_system_ephemeris: 'jpl'>"
      ]
     },
     "execution_count": 3,
     "metadata": {},
     "output_type": "execute_result"
    }
   ],
   "source": [
    "tstart = '2017-05-19T01:43:00'\n",
    "tend = '2017-05-19T11:43:00'\n",
    "orbits = planning.sunlight_periods(fname, tstart, tend)\n",
    "solar_system_ephemeris.set('jpl') "
   ]
  },
  {
   "cell_type": "code",
   "execution_count": 4,
   "metadata": {
    "collapsed": false
   },
   "outputs": [
    {
     "name": "stderr",
     "output_type": "stream",
     "text": [
      "[#################################] 100% deltat.data\n",
      "[#################################] 100% deltat.preds\n",
      "[#################################] 100% Leap_Second.dat\n",
      "[#################################] 100% jup310.bsp\n"
     ]
    }
   ],
   "source": [
    "from skyfield.api import Loader\n",
    "load = Loader('../data')\n",
    "ts = load.timescale()\n",
    "planets = load('jup310.bsp')\n"
   ]
  },
  {
   "cell_type": "markdown",
   "metadata": {},
   "source": [
    "# Use the astropy interface to get the location of Jupiter as the time that you want to use."
   ]
  },
  {
   "cell_type": "code",
   "execution_count": 5,
   "metadata": {
    "collapsed": false
   },
   "outputs": [
    {
     "name": "stdout",
     "output_type": "stream",
     "text": [
      "\n",
      "Time used for ephemeris:  2017-05-19T01:45:00\n",
      "\n",
      "Horizons offset to jplephem:  0d00m13.0448s\n",
      "\n",
      "Horizons offset to \"built in\" ephemeris:  0d00m15.7584s\n",
      "\n",
      "Horizons offset to Skyfield ephemeris:  0d00m01.6335s\n",
      "\n"
     ]
    }
   ],
   "source": [
    "dt = 0.\n",
    "\n",
    "# Using JPL Horizons web interface at 2017-05-19T01:34:40\n",
    "horizon_ephem = SkyCoord(*[193.1535, -4.01689]*u.deg)\n",
    "\n",
    "\n",
    "for orbit in orbits:\n",
    "    tstart = orbit[0]\n",
    "    tend = orbit[1]\n",
    "    print()\n",
    "#    print('Orbit duration: ', tstart.isoformat(), tend.isoformat())\n",
    "    on_time = (tend - tstart).total_seconds()\n",
    "    \n",
    "    point_time = tstart + 0.5*(tend - tstart)\n",
    "    print('Time used for ephemeris: ', point_time.isoformat())\n",
    "    \n",
    "    astro_time = Time(point_time)\n",
    "    solar_system_ephemeris.set('jpl')\n",
    "\n",
    "\n",
    "    jupiter = get_body('Jupiter', astro_time)\n",
    "    \n",
    "    jplephem = SkyCoord(jupiter.ra.deg*u.deg, jupiter.dec.deg*u.deg)\n",
    "    \n",
    "    # Switch to the built in ephemris\n",
    "    solar_system_ephemeris.set('builtin')\n",
    "    jupiter = get_body('Jupiter', astro_time)\n",
    "    \n",
    "    builtin_ephem = SkyCoord(jupiter.ra.deg*u.deg, jupiter.dec.deg*u.deg)\n",
    "    \n",
    "    t = ts.from_astropy(astro_time)\n",
    "    jupiter, earth = planets['jupiter'], planets['earth']\n",
    "    astrometric = earth.at(t).observe(jupiter)\n",
    "    ra, dec, distance = astrometric.radec()\n",
    "    radeg = ra.to(u.deg)\n",
    "    decdeg = dec.to(u.deg)\n",
    "    skyfield_ephem = SkyCoord(radeg, decdeg)\n",
    "    \n",
    "    \n",
    "    print()\n",
    "    print('Horizons offset to jplephem: ', horizon_ephem.separation(jplephem))\n",
    "    print()\n",
    "    print('Horizons offset to \"built in\" ephemeris: ', horizon_ephem.separation(builtin_ephem))\n",
    "    print()\n",
    "    print('Horizons offset to Skyfield ephemeris: ', horizon_ephem.separation(skyfield_ephem))\n",
    "\n",
    "    print()\n",
    "    break\n"
   ]
  },
  {
   "cell_type": "markdown",
   "metadata": {},
   "source": [
    "# Conclusion: Use skyfield if you want to reproduce the JPL ephemerides\n",
    "\n",
    "## Use the jup310.bsp file for Jupiter. Need to confirm which of the avaiable .bsp files are approriate for inner solar system objects as well as the Sun/Moon"
   ]
  },
  {
   "cell_type": "code",
   "execution_count": 7,
   "metadata": {
    "collapsed": false
   },
   "outputs": [
    {
     "name": "stdout",
     "output_type": "stream",
     "text": [
      "\n",
      "Time used for ephemeris:  2017-05-19T01:45:00\n",
      "\n",
      "Skyfield offset to jplephem:  0d00m14.6773s\n",
      "\n",
      "Skyfield offset to \"built in\" ephemeris:  0d00m17.3375s\n",
      "\n",
      "\n",
      "Time used for ephemeris:  2017-05-19T03:21:45\n",
      "\n",
      "Skyfield offset to jplephem:  0d00m14.6587s\n",
      "\n",
      "Skyfield offset to \"built in\" ephemeris:  0d00m17.315s\n",
      "\n",
      "\n",
      "Time used for ephemeris:  2017-05-19T04:58:25\n",
      "\n",
      "Skyfield offset to jplephem:  0d00m14.64s\n",
      "\n",
      "Skyfield offset to \"built in\" ephemeris:  0d00m17.2925s\n",
      "\n",
      "\n",
      "Time used for ephemeris:  2017-05-19T06:35:05\n",
      "\n",
      "Skyfield offset to jplephem:  0d00m14.6213s\n",
      "\n",
      "Skyfield offset to \"built in\" ephemeris:  0d00m17.2699s\n",
      "\n",
      "\n",
      "Time used for ephemeris:  2017-05-19T08:11:50\n",
      "\n",
      "Skyfield offset to jplephem:  0d00m14.6026s\n",
      "\n",
      "Skyfield offset to \"built in\" ephemeris:  0d00m17.2474s\n",
      "\n",
      "\n",
      "Time used for ephemeris:  2017-05-19T09:48:30\n",
      "\n",
      "Skyfield offset to jplephem:  0d00m14.584s\n",
      "\n",
      "Skyfield offset to \"built in\" ephemeris:  0d00m17.225s\n",
      "\n"
     ]
    }
   ],
   "source": [
    "dt = 0.\n",
    "\n",
    "for orbit in orbits:\n",
    "    tstart = orbit[0]\n",
    "    tend = orbit[1]\n",
    "    print()\n",
    "    on_time = (tend - tstart).total_seconds()\n",
    "    \n",
    "    point_time = tstart + 0.5*(tend - tstart)\n",
    "    print('Time used for ephemeris: ', point_time.isoformat())\n",
    "    \n",
    "    astro_time = Time(point_time)\n",
    "    solar_system_ephemeris.set('jpl')\n",
    "\n",
    "\n",
    "    jupiter = get_body('Jupiter', astro_time)\n",
    "    \n",
    "    jplephem = SkyCoord(jupiter.ra.deg*u.deg, jupiter.dec.deg*u.deg)\n",
    "    \n",
    "    # Switch to the built in ephemris\n",
    "    solar_system_ephemeris.set('builtin')\n",
    "    jupiter = get_body('Jupiter', astro_time)\n",
    "    \n",
    "    builtin_ephem = SkyCoord(jupiter.ra.deg*u.deg, jupiter.dec.deg*u.deg)\n",
    "    \n",
    "    t = ts.from_astropy(astro_time)\n",
    "    jupiter, earth = planets['jupiter'], planets['earth']\n",
    "    astrometric = earth.at(t).observe(jupiter)\n",
    "    ra, dec, distance = astrometric.radec()\n",
    "    radeg = ra.to(u.deg)\n",
    "    decdeg = dec.to(u.deg)\n",
    "    skyfield_ephem = SkyCoord(radeg, decdeg)\n",
    "    \n",
    "    \n",
    "    print()\n",
    "    print('Skyfield offset to jplephem: ', skyfield_ephem.separation(jplephem))\n",
    "    print()\n",
    "    print('Skyfield offset to \"built in\" ephemeris: ', skyfield_ephem.separation(builtin_ephem))\n",
    "\n",
    "    print()\n",
    "\n"
   ]
  }
 ],
 "metadata": {
  "anaconda-cloud": {},
  "kernelspec": {
   "display_name": "Python [default]",
   "language": "python",
   "name": "python3"
  },
  "language_info": {
   "codemirror_mode": {
    "name": "ipython",
    "version": 3
   },
   "file_extension": ".py",
   "mimetype": "text/x-python",
   "name": "python",
   "nbconvert_exporter": "python",
   "pygments_lexer": "ipython3",
   "version": "3.5.2"
  }
 },
 "nbformat": 4,
 "nbformat_minor": 2
}
